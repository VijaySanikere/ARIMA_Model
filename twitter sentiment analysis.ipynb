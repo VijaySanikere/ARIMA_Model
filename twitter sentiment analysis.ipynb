{
 "cells": [
  {
   "cell_type": "code",
   "execution_count": 1,
   "metadata": {},
   "outputs": [],
   "source": [
    "from textblob import TextBlob\n",
    "import sys, tweepy\n",
    "import matplotlib.pyplot as plt"
   ]
  },
  {
   "cell_type": "code",
   "execution_count": 4,
   "metadata": {},
   "outputs": [
    {
     "name": "stdout",
     "output_type": "stream",
     "text": [
      "enter keyword/hashtag to search about: bitcoins\n",
      "enter the no of tweets to analyse:5\n",
      "Preciso de uma indicação para uma corretora de #Criptomonedas \n",
      "Alguém sabe de alguma boa?\n",
      "#bitcoins\n",
      "@EvansTheCrime I guess hairdressers in Llanelli don't take bitcoins? 🤣\n",
      "Danke https://t.co/EJD9CHyTVt!\n",
      "\n",
      "Soviel zur Unabhängigkeit der Zentralbanken\n",
      "\n",
      "https://t.co/GhhlWsiB6e\n",
      "\n",
      "#mises… https://t.co/XOTdMvugqp\n",
      "Achetez votre BREITLING Chronoliner en BITCOINS à prix exceptionnel https://t.co/BlJQI70iOE https://t.co/9pVw2r5d6R\n",
      "Bitcoin’s Price Is Just $300 Away From a Short-Term Bear Reversal https://t.co/Bk0bOS5Y3R [@CoinDesk]\n"
     ]
    }
   ],
   "source": [
    "def percentage( part, whole):\n",
    "    return float(part)/float(whole)*100\n",
    "consumerkey = \"IefccqqpNqH4UkmhKgq98DPpT\"\n",
    "consumersec=\"KephixozgFE5iSbnXDiR7F2TXCKX21Xyha5xGThgY3yIjK8t72\"\n",
    "accesstoken = \"2283590427-Tv0KvdftDfVVMwOMjamxU6FJXUlaAp6GMX8bRS2\"\n",
    "accesssec= \"6ny1N1A3iOo4YoNmCN9UXK2aUUiu3lK7bIkePM9CJ9vhz\"\n",
    "auth = tweepy.OAuthHandler(consumer_key= consumerkey, consumer_secret=consumersec)\n",
    "auth.set_access_token(accesstoken,accesssec)\n",
    "api = tweepy.API(auth)\n",
    "\n",
    "searchTerm= input(\"enter keyword/hashtag to search about: \")\n",
    "number_tweets= int(input('enter the no of tweets to analyse:'))\n",
    "tweets=tweepy.Cursor(api.search,q=searchTerm,language= \"English\").items(number_tweets)\n",
    "\n",
    "positive =0\n",
    "negative= 0\n",
    "neutral = 0\n",
    "polarity = 0\n",
    "\n",
    "for tweet in tweets:\n",
    "    print(tweet.text)\n",
    "    analysis = TextBlob(tweet.text)\n",
    "    polarity+=analysis.sentiment.polarity\n",
    "    negative+= analysis.sentiment.negative"
   ]
  },
  {
   "cell_type": "code",
   "execution_count": 10,
   "metadata": {
    "scrolled": false
   },
   "outputs": [
    {
     "ename": "TypeError",
     "evalue": "must be str, not int",
     "output_type": "error",
     "traceback": [
      "\u001b[1;31m---------------------------------------------------------------------------\u001b[0m",
      "\u001b[1;31mTypeError\u001b[0m                                 Traceback (most recent call last)",
      "\u001b[1;32m<ipython-input-10-d094437e0496>\u001b[0m in \u001b[0;36m<module>\u001b[1;34m()\u001b[0m\n\u001b[0;32m      1\u001b[0m \u001b[1;32mif\u001b[0m \u001b[1;33m(\u001b[0m\u001b[0manalysis\u001b[0m\u001b[1;33m.\u001b[0m\u001b[0msentiment\u001b[0m\u001b[1;33m.\u001b[0m\u001b[0mpolarity\u001b[0m \u001b[1;33m==\u001b[0m\u001b[1;36m0\u001b[0m\u001b[1;33m)\u001b[0m\u001b[1;33m:\u001b[0m\u001b[1;33m\u001b[0m\u001b[0m\n\u001b[1;32m----> 2\u001b[1;33m         \u001b[0mneutral\u001b[0m\u001b[1;33m+=\u001b[0m\u001b[1;36m1\u001b[0m\u001b[1;33m\u001b[0m\u001b[0m\n\u001b[0m\u001b[0;32m      3\u001b[0m \u001b[1;32melif\u001b[0m\u001b[1;33m(\u001b[0m\u001b[0manalysis\u001b[0m\u001b[1;33m.\u001b[0m\u001b[0msentiment\u001b[0m\u001b[1;33m.\u001b[0m\u001b[0mpolarity\u001b[0m \u001b[1;33m>\u001b[0m\u001b[1;36m0.0\u001b[0m\u001b[1;33m)\u001b[0m\u001b[1;33m:\u001b[0m\u001b[1;33m\u001b[0m\u001b[0m\n\u001b[0;32m      4\u001b[0m         \u001b[0mpositive\u001b[0m\u001b[1;33m+=\u001b[0m\u001b[1;36m1\u001b[0m\u001b[1;33m\u001b[0m\u001b[0m\n\u001b[0;32m      5\u001b[0m \u001b[1;32melif\u001b[0m\u001b[1;33m(\u001b[0m\u001b[0manalysis\u001b[0m\u001b[1;33m.\u001b[0m\u001b[0msentiment\u001b[0m\u001b[1;33m.\u001b[0m\u001b[0mpolarity\u001b[0m\u001b[1;33m<\u001b[0m\u001b[1;36m0.0\u001b[0m\u001b[1;33m)\u001b[0m\u001b[1;33m:\u001b[0m\u001b[1;33m\u001b[0m\u001b[0m\n",
      "\u001b[1;31mTypeError\u001b[0m: must be str, not int"
     ]
    }
   ],
   "source": [
    "if (analysis.sentiment.polarity ==0):\n",
    "        neutral+=1\n",
    "elif(analysis.sentiment.polarity >0.0):\n",
    "        positive+=1\n",
    "elif(analysis.sentiment.polarity<0.0):\n",
    "        negative+=1\n",
    "\n",
    "positive= percentage(positive, number_tweets)\n",
    "neutral= percentage(neutral, number_tweets)\n",
    "negative= percentage(negative, number_tweets)\n",
    "\n",
    "positive= format(positive, \".2f\")\n",
    "negative= format(negative, '.2f')\n",
    "neutral= format(neutral, '.2f')"
   ]
  },
  {
   "cell_type": "code",
   "execution_count": null,
   "metadata": {},
   "outputs": [],
   "source": []
  }
 ],
 "metadata": {
  "kernelspec": {
   "display_name": "Python 3",
   "language": "python",
   "name": "python3"
  },
  "language_info": {
   "codemirror_mode": {
    "name": "ipython",
    "version": 3
   },
   "file_extension": ".py",
   "mimetype": "text/x-python",
   "name": "python",
   "nbconvert_exporter": "python",
   "pygments_lexer": "ipython3",
   "version": "3.6.4"
  }
 },
 "nbformat": 4,
 "nbformat_minor": 2
}
